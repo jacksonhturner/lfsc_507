{
 "cells": [
  {
   "cell_type": "markdown",
   "id": "a9d1b8b0-a8c2-48ff-8a63-263105530dcd",
   "metadata": {},
   "source": [
    "### Exercise 4c"
   ]
  },
  {
   "cell_type": "code",
   "execution_count": 12,
   "id": "deea9f35-d442-4a65-a1aa-e72d0601530f",
   "metadata": {
    "scrolled": true
   },
   "outputs": [
    {
     "name": "stdout",
     "output_type": "stream",
     "text": [
      "ALACA is an amino acid sequence match to AXX(X)A, starting at position 164 and ending at 168.\n",
      "ACAA is an amino acid sequence match to AXX(X)A, starting at position 166 and ending at 169.\n",
      "AGVA is an amino acid sequence match to AXX(X)A, starting at position 269 and ending at 272.\n",
      "AFFA is an amino acid sequence match to AXX(X)A, starting at position 292 and ending at 295.\n",
      "AKTSA is an amino acid sequence match to AXX(X)A, starting at position 295 and ending at 299.\n",
      "This amino acid sequence codes for rhodopsin in domestic cattle (Bos taurus).\n",
      "\n",
      "Disclaimer: this code assumes Z is equal to either A or L.\n",
      "AYMFL is an amino acid sequence match to ZXX(X)Z, starting at position 42 and ending at 46.\n",
      "LLIML is an amino acid sequence match to ZXX(X)Z, starting at position 46 and ending at 50.\n",
      "LIML is an amino acid sequence match to ZXX(X)Z, starting at position 47 and ending at 50.\n",
      "LRTPL is an amino acid sequence match to ZXX(X)Z, starting at position 68 and ending at 72.\n",
      "LNYIL is an amino acid sequence match to ZXX(X)Z, starting at position 72 and ending at 76.\n",
      "LLNL is an amino acid sequence match to ZXX(X)Z, starting at position 76 and ending at 79.\n",
      "LLNLA is an amino acid sequence match to ZXX(X)Z, starting at position 76 and ending at 80.\n",
      "LNLA is an amino acid sequence match to ZXX(X)Z, starting at position 77 and ending at 80.\n",
      "LAVA is an amino acid sequence match to ZXX(X)Z, starting at position 79 and ending at 82.\n",
      "AVADL is an amino acid sequence match to ZXX(X)Z, starting at position 80 and ending at 84.\n",
      "LYTSL is an amino acid sequence match to ZXX(X)Z, starting at position 95 and ending at 99.\n",
      "ALWSL is an amino acid sequence match to ZXX(X)Z, starting at position 124 and ending at 128.\n",
      "LWSL is an amino acid sequence match to ZXX(X)Z, starting at position 125 and ending at 128.\n",
      "LVVL is an amino acid sequence match to ZXX(X)Z, starting at position 128 and ending at 131.\n",
      "LVVLA is an amino acid sequence match to ZXX(X)Z, starting at position 128 and ending at 132.\n",
      "ALACA is an amino acid sequence match to ZXX(X)Z, starting at position 164 and ending at 168.\n",
      "LACA is an amino acid sequence match to ZXX(X)Z, starting at position 165 and ending at 168.\n",
      "LACAA is an amino acid sequence match to ZXX(X)Z, starting at position 165 and ending at 169.\n",
      "ACAA is an amino acid sequence match to ZXX(X)Z, starting at position 166 and ending at 169.\n",
      "AAPPL is an amino acid sequence match to ZXX(X)Z, starting at position 168 and ending at 172.\n",
      "APPL is an amino acid sequence match to ZXX(X)Z, starting at position 169 and ending at 172.\n",
      "LICWL is an amino acid sequence match to ZXX(X)Z, starting at position 262 and ending at 266.\n",
      "LPYA is an amino acid sequence match to ZXX(X)Z, starting at position 266 and ending at 269.\n",
      "AGVA is an amino acid sequence match to ZXX(X)Z, starting at position 269 and ending at 272.\n",
      "AFFA is an amino acid sequence match to ZXX(X)Z, starting at position 292 and ending at 295.\n",
      "AKTSA is an amino acid sequence match to ZXX(X)Z, starting at position 295 and ending at 299.\n"
     ]
    }
   ],
   "source": [
    "aa_seq = \"MNGTEGPNFYVPFSNKTGVVRSPFEAPQYYLAEPWQFSMLAAYMFLLIMLGFPINFLTLYVTVQHKKLRTPLNYILLNLA\" +\\\n",
    "    \"VADLFMVFGGFTTTLYTSLHGYFVFGPTGCNLEGFFATLGGEIALWSLVVLAIERYVVVCKPMSNFRFGENHAIMGVAFT\" +\\\n",
    "    \"WVMALACAAPPLVGWSRYIPEGMQCSCGIDYYTPHEETNNESFVIYMFVVHFIIPLIVIFFCYGQLVFTVKEAAAQQQES\" +\\\n",
    "    \"ATTQKAEKEVTRMVIIMVIAFLICWLPYAGVAFYIFTHQGSDFGPIFMTIPAFFAKTSAVYNPVIYIMMNKQFRNCMVTT\" +\\\n",
    "    \"LCCGKNPLGDDEASTTVSKTETSQVAPA\"\n",
    "split_seq = list(aa_seq)\n",
    "\n",
    "for index, i in enumerate(split_seq):\n",
    "    if (i == 'A') and (index < len(split_seq) - 3):\n",
    "        j = aa_seq[index + 3]\n",
    "        h = aa_seq[index + 4]\n",
    "        if j == 'A':\n",
    "            print(i + aa_seq[index + 1] + aa_seq[index + 2] + j + \" is an amino acid sequence match to AXX(X)A, starting at position \" + str(index+1) + \" and ending at \" + str(index + 4) + \".\")\n",
    "        if h == 'A':\n",
    "            print(i + aa_seq[index + 1] + aa_seq[index + 2] + aa_seq[index + 3] + h + \" is an amino acid sequence match to AXX(X)A, starting at position \" + str(index+1) + \" and ending at \" + str(index + 5) + \".\")\n",
    "\n",
    "print(\"This amino acid sequence codes for rhodopsin in domestic cattle (Bos taurus).\")\n",
    "\n",
    "print(\"\\n\" + \"Disclaimer: this code assumes Z is equal to either A or L.\")\n",
    "for index, i in enumerate(split_seq):\n",
    "    if ((i == 'A') or (i == 'L')) and (index < len(split_seq) - 4):\n",
    "        j = aa_seq[index + 3]\n",
    "        h = aa_seq[index + 4]\n",
    "        if (j == 'A') or (j == 'L'):\n",
    "            print(i + aa_seq[index + 1] + aa_seq[index + 2] + j + \" is an amino acid sequence match to ZXX(X)Z, starting at position \" + str(index + 1) + \" and ending at \" + str(index + 4) + \".\")\n",
    "        if (h == 'A') or (h == 'L'):\n",
    "            print(i + aa_seq[index + 1] + aa_seq[index + 2] + aa_seq[index + 3] + h + \" is an amino acid sequence match to ZXX(X)Z, starting at position \" + str(index + 1) + \" and ending at \" + str(index + 5) + \".\")"
   ]
  },
  {
   "cell_type": "code",
   "execution_count": 84,
   "id": "fb1b6e40-b74b-4a67-8409-0ae6fbb1520c",
   "metadata": {},
   "outputs": [
    {
     "name": "stdout",
     "output_type": "stream",
     "text": [
      "After 14 hours, the total number of bacteria cells is 1638400, exceeding one million individuals.\n"
     ]
    }
   ],
   "source": [
    "num_bact = 100\n",
    "hours = 0\n",
    "while num_bact <= 1000000:\n",
    "    num_bact = num_bact*2\n",
    "    hours = hours + 1\n",
    "print(\"After \" + str(hours) + \" hours, the total number of bacteria cells is \" + str(num_bact) + \", exceeding one million individuals.\")"
   ]
  },
  {
   "cell_type": "code",
   "execution_count": 85,
   "id": "2cb2b993-facc-4930-89c2-95f6826c0eac",
   "metadata": {},
   "outputs": [
    {
     "name": "stdout",
     "output_type": "stream",
     "text": [
      "This function works by supplying it with a list of sequences, such as the seq_list object provided in this example.\n",
      "The sequence is ATATCCG and its GC content is 42.9%.\n",
      "The sequence is TCCG and its GC content is 75.0%.\n",
      "The sequence is ATGTACTG and its GC content is 37.5%.\n",
      "The sequence is ATGGCTG and its GC content is 57.1%.\n",
      "The sequence is ATCA and its GC content is 25.0%.\n"
     ]
    }
   ],
   "source": [
    "seq_list = [\"ATATCCG\", \"TCCG\", \"ATGTACTG\", \"ATGGCTG\", \"ATCA\"]\n",
    "\n",
    "print(\"This function works by supplying it with a list of sequences, such as the seq_list object provided in this example.\")\n",
    "for i in seq_list:\n",
    "    g_c_count = 0\n",
    "    seq_split = list(i)\n",
    "    for index, j in enumerate(seq_split):\n",
    "        seq_len = len(seq_split)\n",
    "        if (j == 'G') or (j == 'C'):\n",
    "            g_c_count = g_c_count + 1\n",
    "        if index == seq_len -1:\n",
    "            g_c_percentage = (g_c_count/seq_len) * 100\n",
    "            g_c_percentage = round(g_c_percentage, 1)\n",
    "            print(\"The sequence is \" + i + \" and its GC content is \" + str(g_c_percentage) + \"%.\")"
   ]
  },
  {
   "cell_type": "markdown",
   "id": "d8480929-a727-4d3d-bb0b-9a2e4efacd7f",
   "metadata": {},
   "source": [
    "### Exercise 5.2"
   ]
  },
  {
   "cell_type": "code",
   "execution_count": 9,
   "id": "5aab5453-4c7d-4baa-af0d-17b28e35edee",
   "metadata": {},
   "outputs": [
    {
     "name": "stdout",
     "output_type": "stream",
     "text": [
      "These are the genes present in either data set:\n",
      "SLC9A3R2, PPP1CA, DCAF4, SLC1A5, NOTCH2, SHTN1, TPD52L2, CDC27, KIAA1217, ZFYVE16, PTPRS, GIGYF2, STX4, ECT2, MAGI3, BZW1, PTPN1, ARHGAP23, FLNA, H1-10, RPL23A, YWHAB, EIF4H, LYPLA2, ILK, EHD4, ELFN2, KIDINS220, EHBP1, PACSIN2, NEBL, DSG2, CDH1, PARD3, WASF2, CKAP5, CHMP5, TP53BP2, LLGL1, STK24, PKN2, ZEB1, FAM110C, SLC9A3R1, ARHGAP5, EEF1A1, TENM3, CIP2A, ANAPC11, DBN1, CAPZB, CEMIP2, PLEC, TBC1D22B, RARS1, CCT8, BSG, ARPIN, HSPA1A, ARFIP2, FAM126B, JUP, UL97, TPD52, SLC30A1, CRYBG1, LRRC7, FRS2, YAP1, LMO7, SLC4A7, MAPRE1, ATP2B4, RAB1A, NKD2, SCEL, ISYNA1, SORBS1, CBLL1, ARVCF, ARGLU1, DAB2IP, NUDT5, YWHAE, MET, USP9X, ADD3, RELL1, KRT9, RAB11B, CCDC43, DDX39B, LZTS2, SPTBN1, CANT1, NECTIN2, STEAP3, S100A11, SND1, KRT18, GOLGA8B, NDRG1, ARPC2, SNX9, UNC45A, GLOD4, RACK1, ZDHHC5, MAVS, NIPSNAP2, ARHGAP21, MAGI1, FSCN1, ERBB2, PALM2AKAP2 , EFR3A, PLEKHO2, ADCY9, PLEKHA5, PLEKHA1, YES1, TRIM29, GPC1, LGALS3BP, ACTN1, SCARB1, EPB41, EEF1G, SLK, GCN1, STAT1, KRT8, AAK1, ESR2, PCBP2, SPTAN1, PUF60, LARP1, DOCK9, CTNNA3, SNX5, SPTBN2, EPB41L1, ARHGDIB, LASP1, ACTN4, EBNA1BP2, SYAP1, CLMN, ENO1, ALDOA, PTPRG, NLRP2, LRRC57, PFKP, IST1, USP6NL, EIF4G2, HSPD1, KDF1, MPP7, PGRMC2, HNRNPK, NFKBIE, SH3KBP1, ITPRID2, PLEKHA7, SEPTIN7, FASN, CASP3, PLIN3, TTN, STAT2, ARFGAP2, EGFR, YKT6, PTPRF, GCOM1, GORASP2, JPT1, CSNK1A1, SPECC1, EPS15, GOLGA2, SNAP23, RPL14, XRN1, PKP4, MACC1, FNBP1L, RPL15, CAST, CIAPIN1, ZC3HAV1, ZNF185, SLC3A2, E2F1, EFHD2, PCDHGC3, SEPTIN9, EPB41L3, LRRC59, ARFIP1, ATP2B1, EHD1, TBC1D10B, TAGLN2, PRDX1, ANXA1, VEZT, NUMB, DDX3X, SMAD7, BRCA1, VASN, DSC3, CXADR, EMD, HDAC2, STIM1, CAPG, ADAM17, VAPA, IGHA1, TMOD3, PTPRM, TRIP6, FAM126A, MACF1, RPL36AL, DDX6, USP8, CASKIN2, GM2A, ELMOD3, MARCKS, GSK3B, FLNB, TNKS1BP1, NCK2, CHMP2B, CCS, SPRR3, GGA3, PHLDB2, GAPVD1, TLN1, SRCIN1, PCBP1, SLC9A1, BAG3, NUP214, DENND4C, TMEM51, DST, SERBP1, TANC1, F11R, SVIL, ABLIM1, ZC3H15, XRCC5, CRK, PDXDC1, EHBP1L1, MYH9, CLIC1, SHB, DNAJB1, TBC1D10A, C6orf132, DLG1, OCLN, HLA-C, RNF43, UCHL3, CTNNB1, FERMT1, HCFC1, CTTN, GOLGA5, EZR, EPB41L4B, TTC7A, KIF5B, INAVA, EEF1D, EXOC3, IL6ST, MACROH2A1, USP15, GPRIN1, ITGA6, EIF3E, VCL, ACTR3, FLOT1, COBLL1, SEPTIN2, UBFD1, CDCA3, CDC42, NAV2, PDLIM5, CAPS, MB21D2, NGDN, RAPH1, ADD1, RNF2, SEC24B, SLC2A14, TES, KEAP1, LIMCH1, USO1, STX5, C1orf198, MICALL1, IGBP1, NSFL1C, CLINT1, HSPA8, SRC, N4BP1, SWAP70, HECTD1, PSMB6, ABI1, TWF2, CAV1, KTN1, SPAG1, ARHGEF16, MPRIP, SH3PXD2B, SH3GLB2, SDCBP, CCDC85C, GNA12, PPP1R13B, SET, HSPA5, NHSL1, JCAD, CTNND2, TGM2, ANXA2, CTSB, ANLN, EIF4B, BCL2L2, CHMP4B, LAD1, PLSCR1, DAG1, ADAM9, UACA, PIP5K1C, ARHGEF12, DDR1, STXBP6, VAPB, MRTFB, TUBB, USP43, ELP4, AHNAK, AP2M1, CTNNA2, RAN, LRRFIP1, RB1CC1, WWOX, CDH3, GAB1, ARHGAP1, KANK2, ANAPC7, MAP4, RPL6, PDLIM1, TJP2, HSPA1B, PAK6, IDH1, KRAS, PCMT1, VCPIP1, SNX1, SYNJ1, RDX, GIPC1, HDLBP, FAM171B, PDLIM7, EPS8L2, EPN2, SHROOM3, FAM83B, FER, SFN, SIPA1L3, ESYT1, COPG2, CAPZA1, PAK4, SLC16A3, HSP90AB1, RAD17, PKP3, ADGRL2, PTPRJ, RPL29, CD2AP, TXNDC9, CTNNA1, LRATD2, EIF2A, H3C1, RRM2, ACTG1, RUVBL1, IGF2R, KCNN4, PLCB3, DVL3, NOTCH3, ASAP1, SHANK2, EP300, PKM, ESYT2, PLEKHA6, LMNA, PAG1, CC2D1A, CARMIL1, NF2, CASP8, PDAP1, ANP32B, WIPF2, IVL, ACADVL, ZYX, PICALM, MYO6, S100P, ERBB3, TTK, PPFIBP1, RPL36A, EIF4G1, VAMP3, HSP90AA1, ABCF3, NECTIN1, RPL7A, BAIAP2, PKP2, PPP1R37, CFTR, IQGAP1, GSPT1, PPL, SLC38A1, ZG16B, CSNK2A1, LUZP1, SYNJ2, FMN1, PFN1, NUMBL, TRIM25, CRYAB, RAB10, FTH1, SNX2, UBAP2, RANBP1, PHACTR2, PKD1, C1QBP, DLG5, YWHAZ, HDAC1, SYT7, PI4KA, ITGAE, CCNB2, ERBIN, PPP1R18, SCRIB, EVPL, PHACTR4, UTRN, CTNND1, NUDC, KIAA1522, KRT1, RAI14, SCYL1, SRGAP2, NFE2L2, SIRPA, SBSN, ATXN2L, CREBBP, PATJ, PROM2, SH3GLB1, GOLGB1, PAICS, CRKL, TWF1, RTN4, TMEM87A, RSL1D1, POF1B, MDM2, SCYL2, JPT2, PSEN1, SKP2, COL17A1, LSR, PXN, PPME1, SPRED1, CD99, CSNK1D, DBNL, TMPO, TRIP11, DHX29, CALD1, MARK2, MRE11, ANK3, ITGB1, CGN, UHRF1, AFDN, VSIG10L, ERC1, EPS8L1, DAAM1, SH3GL1, MYO7A, NHS, CCSER2, RANGAP1, CBL, EPS15L1, EIF2S3, C1orf35, CORO1B, EPHA2, DIAPH3, INPPL1, RPS2, MYO1B, PLSCR3, TGFB1, IRAK1, PPP1R13L, SSH3, ITGB7, FYN, AJAP1, ANXA4, CSE1L, PEAK1, RPL24, PALM3, EEF2, FMNL2, UBC, AGFG1, LPP, CDC42EP4, RPS26, PAK2, RPL34, ARHGAP32, CNN2, ARHGAP29, TJP1, NOP56, SH3D19, BZW2, NEDD9, MINK1, SNAP25, MARK3, AHSA1, GOLGA3, GNA13, FAM83H, FAM110A, RPL37, NIPSNAP1, SLC12A2, LDHA, C1orf116, CNN3, GMNN, OLA1, NIBAN2, PLEKHA2, ATIC, BMPR2, PARVA, VASP, TUBB4B, NCK1, CDC42EP1, RAB8B, PCDH1, EIF5, ARHGAP18, NOTCH1, CA9, PTPRD, GPRC5A, EIF5A, SH3RF1, KLF4, IRS1, ABLIM3, MPZL1, CCDC120, LBR, SNAP29, FAM91A1, BAIAP2L1, PTPN14, MARVELD2, ACBD3, TMEM199, KIAA1671, FGFR1, NECTIN4, DDR2, HSPA9, KLC2, NDRG2, STK38, CAMK1D, PARK7, PRDX6, CDKL5, EPN3, LIMA1, POLR2E\n",
      "\n",
      "These are the genes present in both data sets:\n",
      "HDAC2, CTNNB1, CDC27, PSEN1, EZR, SRC, SKP2, ECT2, JUP, PIP5K1C, CSE1L, CTNND1, VCL, MAGI1, CTNNA1, CFTR, IQGAP1, NEDD9, CDH1, EGFR, CBLL1\n"
     ]
    }
   ],
   "source": [
    "import pandas as pd\n",
    "import re\n",
    "\n",
    "cdh1 = pd.read_csv(\"CDH1.csv\", sep=\"\\t\")\n",
    "\n",
    "cdh1_result = pd.read_csv(\"gene_result_CDH1.txt\", sep=\"\\t\", header = None)\n",
    "\n",
    "cdh1_gene_list = cdh1.loc[:,'Gene B']\n",
    "cdh1_gene_list = list(cdh1_gene_list)\n",
    "\n",
    "cdh1_res_genes = cdh1_result.loc[:,2]\n",
    "cdh1_res_genes = cdh1_res_genes.dropna()\n",
    "cdh1_res_genes = list(cdh1_res_genes)\n",
    "\n",
    "cdh1_res_gene_list = []\n",
    "for line in cdh1_res_genes:\n",
    "    item = cdh1_res_genes = re.sub(\" .*\",\"\",line)\n",
    "    cdh1_res_gene_list.append(item)\n",
    "\n",
    "cdh1_gene_list = set(cdh1_gene_list)\n",
    "cdh1_res_gene_list = set(cdh1_res_gene_list)\n",
    "\n",
    "union_genes = (cdh1_gene_list.union(cdh1_res_gene_list))\n",
    "print(\"These are the genes present in either data set:\")\n",
    "print (*union_genes, sep = \", \")\n",
    "\n",
    "intersection_genes = cdh1_gene_list.intersection(cdh1_res_gene_list)\n",
    "print(\"\\n\" + \"These are the genes present in both data sets:\")\n",
    "print (*intersection_genes, sep = \", \")"
   ]
  },
  {
   "cell_type": "markdown",
   "id": "13a40dbc-013b-4450-8dc8-a537ed038b10",
   "metadata": {},
   "source": [
    "### Exercise 5.3"
   ]
  },
  {
   "cell_type": "code",
   "execution_count": 13,
   "id": "02b044b8-dbd1-468b-8214-0b13d48c8fa5",
   "metadata": {},
   "outputs": [
    {
     "name": "stdout",
     "output_type": "stream",
     "text": [
      "Disclaimer: this code assumes that the start and stop positions provided account for python's indexing.\n",
      "\n",
      "The generated fasta file contains the following text:\n",
      "\n",
      ">Exon1\n",
      "CGTACCGTCGACGATGCTACGATCGTCGATCGTAGTCGATCATCGATCGATCG\n",
      ">Exon2\n",
      "CGATCGATCGATATCGATCGATATCATCGATGCATCGATCATCGATCGATCGATCGATCGA\n",
      ">Exon3\n",
      "CGATCGATCGATCGTAGCTAGCTAGCTAGATCGATCATCATCGTAGCTAGCTCGACTAGCTACGTACGATCGATGCATCGATCGTA\n",
      ">Exon4\n",
      "CGATCGATCGATCGATCGATCGATCGATCGATCGATCGATCGTAGCTAGCTACGATCG\n"
     ]
    }
   ],
   "source": [
    "import pandas as pd\n",
    "import urllib\n",
    "import re\n",
    "\n",
    "from urllib.request import urlopen\n",
    "genomic_data = urlopen(\"http://lfsc507.github.io/data/genomic_dna.txt\")\n",
    "exons = urlopen(\"http://lfsc507.github.io/data/exons.txt\")\n",
    "\n",
    "actual_genomic_data = \"\"\n",
    "for line in genomic_data:\n",
    "    actual_genomic_data = actual_genomic_data + str(line)\n",
    "\n",
    "actual_genomic_data = actual_genomic_data.replace(\"b'\",\"\")\n",
    "actual_genomic_data = actual_genomic_data.replace(\"\\\\n'\",\"\")\n",
    "\n",
    "actual_exons = exons\n",
    "\n",
    "target_exons = []\n",
    "for line in actual_exons:\n",
    "    line = str(line).replace(\"b'\",\"\")\n",
    "    line = str(line).replace(\"\\\\n'\",\"\")\n",
    "    startpos = re.sub(r\",.*\",\"\",line)\n",
    "    startpos = int(startpos)\n",
    "    stoppos = re.sub(r\".*,\",\"\",line)\n",
    "    stoppos = int(stoppos)\n",
    "    target_exons.append(actual_genomic_data[startpos:stoppos])\n",
    "\n",
    "with open(\"target_exons.fasta\", 'w') as f:\n",
    "    for index, i in enumerate(target_exons):\n",
    "        f.write(\">Exon\" + str(index + 1) + \"\\n\" + i + \"\\n\")\n",
    "\n",
    "print(\"Disclaimer: this code assumes that the start and stop positions provided account for python's indexing.\" + \"\\n\")\n",
    "print(\"The generated fasta file contains the following text:\" + \"\\n\")\n",
    "for index, i in enumerate(target_exons):\n",
    "    print(\">Exon\" + str(index + 1) + \"\\n\" + i)"
   ]
  },
  {
   "cell_type": "markdown",
   "id": "547085b8-ec2c-4186-8970-239bf3ac8aca",
   "metadata": {},
   "source": [
    "### Exercise 5.4"
   ]
  },
  {
   "cell_type": "code",
   "execution_count": 4,
   "id": "fde3f1a8-fc7a-4c4d-af53-b29cce23d030",
   "metadata": {},
   "outputs": [
    {
     "name": "stdout",
     "output_type": "stream",
     "text": [
      "There are 12 samples in this data set.\n",
      "There are 36 genes in this data set.\n",
      "M+ANDV-36 demonstrates the lowest observed gene expression among samples. Its average gene expression is -4.28.\n"
     ]
    },
    {
     "data": {
      "image/png": "[encoded data removed]",
      "text/plain": [
       "<Figure size 640x480 with 1 Axes>"
      ]
     },
     "metadata": {},
     "output_type": "display_data"
    }
   ],
   "source": [
    "import pandas as pd\n",
    "import matplotlib\n",
    "\n",
    "viruses = pd.read_csv(\"http://lfsc507.github.io/data/virus_miniset0.txt\", sep = \"\\t\")\n",
    "\n",
    "print(\"There are \" + str(len(viruses.columns)-1) + \" samples in this data set.\")\n",
    "\n",
    "print(\"There are \" + str(len(viruses)) + \" genes in this data set.\")\n",
    "\n",
    "viruses_t = viruses.set_index('Sample').T\n",
    "viruses_t['Average'] = viruses_t.iloc[:,1:(len(viruses_t.columns))].mean(axis=1)\n",
    "lowest_avg =(viruses_t['Average'].min())\n",
    "target_row = (viruses_t.loc[viruses_t['Average'] == lowest_avg])\n",
    "print(str(target_row.index.tolist()[0]) + \" demonstrates the lowest observed gene expression among samples. Its average gene expression is \" + str(round(lowest_avg,2)) + \".\")\n",
    "\n",
    "myplt = viruses_t['IL6'].hist()\n",
    "myplt.set_xlabel(\"Gene Expression in Sample\")\n",
    "myplt.set_ylabel(\"Frequency\")\n",
    "myplt.set_title(\"IL6 Gene Expression\")\n",
    "myplt.grid(False)"
   ]
  }
 ],
 "metadata": {
  "kernelspec": {
   "display_name": "Python 3 (ipykernel)",
   "language": "python",
   "name": "python3"
  },
  "language_info": {
   "codemirror_mode": {
    "name": "ipython",
    "version": 3
   },
   "file_extension": ".py",
   "mimetype": "text/x-python",
   "name": "python",
   "nbconvert_exporter": "python",
   "pygments_lexer": "ipython3",
   "version": "3.10.10"
  }
 },
 "nbformat": 4,
 "nbformat_minor": 5
}
