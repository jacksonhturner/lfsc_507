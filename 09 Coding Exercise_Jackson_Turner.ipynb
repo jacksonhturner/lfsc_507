{
 "cells": [
  {
   "cell_type": "markdown",
   "id": "3a74fc0f-45ce-4b3f-a1e8-b7b399e9f01e",
   "metadata": {},
   "source": [
    "### Exercise 9.1"
   ]
  },
  {
   "cell_type": "code",
   "execution_count": 11,
   "id": "18a11d72-aff2-4348-bbda-184e2795f518",
   "metadata": {},
   "outputs": [
    {
     "name": "stdout",
     "output_type": "stream",
     "text": [
      "TAA is a DNA stop codon.\n",
      "TAG is a DNA stop codon.\n",
      "TGA is a DNA stop codon.\n",
      "UAA is a RNA stop codon.\n",
      "UAG is a RNA stop codon.\n",
      "UGA is a RNA stop codon.\n"
     ]
    }
   ],
   "source": [
    "stop_codon_dict = {\"TAA\" : \"DNA\",\n",
    "                  \"TAG\" : \"DNA\",\n",
    "                  \"TGA\" : \"DNA\",\n",
    "                  \"UAA\" : \"RNA\",\n",
    "                  \"UAG\" : \"RNA\",\n",
    "                  \"UGA\" : \"RNA\"}\n",
    "\n",
    "for key, value in stop_codon_dict.items():\n",
    "    print(key + \" is a \" + value + \" stop codon.\")"
   ]
  },
  {
   "cell_type": "markdown",
   "id": "f592ce6a-818f-4dc6-bf1e-92500b3bff08",
   "metadata": {},
   "source": [
    "### Exercise 9.2"
   ]
  },
  {
   "cell_type": "code",
   "execution_count": 26,
   "id": "a9f4d279-6720-4e67-b83d-f193b76f7ba9",
   "metadata": {},
   "outputs": [
    {
     "name": "stdout",
     "output_type": "stream",
     "text": [
      "TAA is a DNA stop codon.\n",
      "TAG is a DNA stop codon.\n",
      "TGA is a DNA stop codon.\n",
      "UAA is a RNA stop codon.\n",
      "UAG is a RNA stop codon.\n",
      "UGA is a RNA stop codon.\n",
      "\n",
      "\n",
      "TAA is a DNA stop codon.\n",
      "TAG is a DNA stop codon.\n",
      "TGA is a DNA stop codon.\n",
      "UAA is a RNA stop codon.\n",
      "UAG is a RNA stop codon.\n",
      "UGA is a RNA stop codon.\n",
      "UAR is a RNA stop codon.\n",
      "\n",
      "\n",
      "TAA is a DNA stop codon.\n",
      "TAG is a DNA stop codon.\n",
      "TGA is a DNA stop codon.\n",
      "UAA is a RNA stop codon.\n",
      "UAG is a RNA stop codon.\n",
      "UGA is a RNA stop codon.\n",
      "UAR is a RNA stop codon.\n",
      "\n",
      "\n",
      "TAA is a DNA stop codon.\n",
      "TAG is a DNA stop codon.\n",
      "TGA is a DNA stop codon.\n",
      "UAA is a RNA stop codon.\n",
      "UAG is a RNA stop codon.\n",
      "UGA is a RNA stop codon.\n"
     ]
    }
   ],
   "source": [
    "stop_codon_dict = {\"TAA\" : \"DNA\",\n",
    "                  \"TAG\" : \"DNA\",\n",
    "                  \"TGA\" : \"DNA\",\n",
    "                  \"UAA\" : \"RNA\",\n",
    "                  \"UAG\" : \"RNA\",\n",
    "                  \"UGA\" : \"RNA\"}\n",
    "\n",
    "def print_my_dict(dict):\n",
    "    for key, value in dict.items():\n",
    "        print(key + \" is a \" + value + \" stop codon.\")\n",
    "\n",
    "print_my_dict(stop_codon_dict)\n",
    "print(\"\\n\")\n",
    "\n",
    "stop_codon_dict[\"UAR\"] = \"RNA\"\n",
    "\n",
    "print_my_dict(stop_codon_dict)\n",
    "print(\"\\n\")\n",
    "\n",
    "stop_codon_dict[\"UAR\"] : \"DNA\"\n",
    "\n",
    "print_my_dict(stop_codon_dict)\n",
    "print(\"\\n\")\n",
    "\n",
    "del stop_codon_dict[\"UAR\"]\n",
    "\n",
    "print_my_dict(stop_codon_dict)"
   ]
  },
  {
   "cell_type": "markdown",
   "id": "0aaccdc5-29ca-4ee9-9c0a-3ffd1a27d3e6",
   "metadata": {},
   "source": [
    "### Exercise 9.3"
   ]
  },
  {
   "cell_type": "code",
   "execution_count": 14,
   "id": "803b0537-bcfe-4714-ba53-04ce36f9c0bf",
   "metadata": {},
   "outputs": [
    {
     "name": "stdout",
     "output_type": "stream",
     "text": [
      "26 is NOT the square of numbers 1 through 10.\n"
     ]
    }
   ],
   "source": [
    "# Store the first ten square numbers in a list.\n",
    "squares = []\n",
    "squares_dict = {}\n",
    "\n",
    "# Go through the first ten numbers, square them, and add them to our list.\n",
    "for i in range(1,11):\n",
    "    squares.append(i**2)\n",
    "    squares_dict[i] = (i**2)\n",
    "\n",
    "\n",
    "\n",
    "def search_dict_for_sqrt(number, dict):\n",
    "    number = int(number)\n",
    "    for key, value in dict.items():\n",
    "        if value == number:\n",
    "            myval = key\n",
    "    if number in dict.values():\n",
    "        print(str(myval) + \" is the square root of \" + str(number) + \".\")\n",
    "    else:\n",
    "        print(str(number) + \" is NOT the square of numbers 1 through 10.\")\n",
    "\n",
    "search_dict_for_sqrt(26,squares_dict)"
   ]
  },
  {
   "cell_type": "markdown",
   "id": "1ab2af3d-a717-4d2f-a307-eb004af86ebc",
   "metadata": {},
   "source": [
    "### Exercise 9.4"
   ]
  },
  {
   "cell_type": "code",
   "execution_count": 38,
   "id": "62903981-e5be-4f1c-8739-040ccfaa4cca",
   "metadata": {},
   "outputs": [
    {
     "name": "stdout",
     "output_type": "stream",
     "text": [
      "The following text reports some of the top 10 heaviest terrestrial animals:\n",
      "The gaur is one of the top 10 heaviest terrestrial animals.\n",
      "The giraffe is one of the top 10 heaviest terrestrial animals.\n",
      "The hippopotamus is one of the top 10 heaviest terrestrial animals.\n",
      "The Asian elephant is one of the top 10 heaviest terrestrial animals.\n",
      "The Indian rhinoceros is one of the top 10 heaviest terrestrial animals.\n",
      "\n",
      "The following text reports the average weights of some of the top 10 heaviest terrestrial animals:\n",
      "One of the top 10 heaviest terrestrial animals has an average weight of 0.95 tonnes.\n",
      "One of the top 10 heaviest terrestrial animals has an average weight of 1.0 tonnes.\n",
      "One of the top 10 heaviest terrestrial animals has an average weight of 1.8 tonnes.\n",
      "One of the top 10 heaviest terrestrial animals has an average weight of 4.5 tonnes.\n",
      "One of the top 10 heaviest terrestrial animals has an average weight of 1.9 tonnes.\n",
      "\n",
      "The following text reports the identities and masses of some of the top 10 heaviest terrestrial animals:\n",
      "The average gaur weighs 0.95 tonnes.\n",
      "The average giraffe weighs 1.0 tonnes.\n",
      "The average hippopotamus weighs 1.8 tonnes.\n",
      "The average Asian elephant weighs 4.5 tonnes.\n",
      "The average Indian rhinoceros weighs 1.9 tonnes.\n"
     ]
    }
   ],
   "source": [
    "heavy_animal_dict = {\"gaur\" : 0.95,\n",
    "                    \"giraffe\" : 1.0,\n",
    "                    \"hippopotamus\" : 1.8,\n",
    "                    \"Asian elephant\" : 4.5,\n",
    "                    \"Indian rhinoceros\" : 1.9}\n",
    "\n",
    "print(\"The following text reports some of the top 10 heaviest terrestrial animals:\")\n",
    "for key, value in heavy_animal_dict.items():\n",
    "    print(\"The \" + key + \" is one of the top 10 heaviest terrestrial animals.\")\n",
    "\n",
    "print(\"\\n\" + \"The following text reports the average weights of some of the top 10 heaviest terrestrial animals:\")\n",
    "for key, value in heavy_animal_dict.items():\n",
    "    print(\"One of the top 10 heaviest terrestrial animals has an average weight of \" + str(value) + \" tonnes.\")\n",
    "\n",
    "print(\"\\n\" + \"The following text reports the identities and masses of some of the top 10 heaviest terrestrial animals:\")\n",
    "for key, value in heavy_animal_dict.items():\n",
    "    print(\"The average \" + key + \" weighs \" + str(value) + \" tonnes.\")"
   ]
  },
  {
   "cell_type": "markdown",
   "id": "f8446401-2857-4118-9b95-1fece6d646ff",
   "metadata": {},
   "source": [
    "### Exercise 9.5"
   ]
  },
  {
   "cell_type": "code",
   "execution_count": 39,
   "id": "19c3d6cb-f163-45e3-b549-ad7218480f82",
   "metadata": {},
   "outputs": [
    {
     "name": "stdout",
     "output_type": "stream",
     "text": [
      "The following text reports some of the top 10 heaviest terrestrial animals:\n",
      "The Asian elephant is one of the top 10 heaviest terrestrial animals.\n",
      "The Indian rhinoceros is one of the top 10 heaviest terrestrial animals.\n",
      "The gaur is one of the top 10 heaviest terrestrial animals.\n",
      "The giraffe is one of the top 10 heaviest terrestrial animals.\n",
      "The hippopotamus is one of the top 10 heaviest terrestrial animals.\n",
      "\n",
      "The following text reports the average weights of some of the top 10 heaviest terrestrial animals:\n",
      "One of the top 10 heaviest terrestrial animals has an average weight of 4.5 tonnes.\n",
      "One of the top 10 heaviest terrestrial animals has an average weight of 1.9 tonnes.\n",
      "One of the top 10 heaviest terrestrial animals has an average weight of 0.95 tonnes.\n",
      "One of the top 10 heaviest terrestrial animals has an average weight of 1.0 tonnes.\n",
      "One of the top 10 heaviest terrestrial animals has an average weight of 1.8 tonnes.\n",
      "\n",
      "The following text reports the identities and masses of some of the top 10 heaviest terrestrial animals:\n",
      "The average Asian elephant weighs 4.5 tonnes.\n",
      "The average Indian rhinoceros weighs 1.9 tonnes.\n",
      "The average gaur weighs 0.95 tonnes.\n",
      "The average giraffe weighs 1.0 tonnes.\n",
      "The average hippopotamus weighs 1.8 tonnes.\n"
     ]
    }
   ],
   "source": [
    "heavy_animal_dict = {\"gaur\" : 0.95,\n",
    "                    \"giraffe\" : 1.0,\n",
    "                    \"hippopotamus\" : 1.8,\n",
    "                    \"Asian elephant\" : 4.5,\n",
    "                    \"Indian rhinoceros\" : 1.9}\n",
    "sorted_heavy_animal_dict = dict(sorted(heavy_animal_dict.items()))\n",
    "\n",
    "print(\"The following text reports some of the top 10 heaviest terrestrial animals:\")\n",
    "\n",
    "for key, value in sorted_heavy_animal_dict.items():\n",
    "    print(\"The \" + key + \" is one of the top 10 heaviest terrestrial animals.\")\n",
    "\n",
    "print(\"\\n\" + \"The following text reports the average weights of some of the top 10 heaviest terrestrial animals:\")\n",
    "for key, value in sorted_heavy_animal_dict.items():\n",
    "    print(\"One of the top 10 heaviest terrestrial animals has an average weight of \" + str(value) + \" tonnes.\")\n",
    "\n",
    "print(\"\\n\" + \"The following text reports the identities and masses of some of the top 10 heaviest terrestrial animals:\")\n",
    "for key, value in sorted_heavy_animal_dict.items():\n",
    "    print(\"The average \" + key + \" weighs \" + str(value) + \" tonnes.\")"
   ]
  },
  {
   "cell_type": "markdown",
   "id": "b8c26ee5-0015-4059-9187-863c0e586896",
   "metadata": {},
   "source": [
    "### Exercise 9.6"
   ]
  },
  {
   "cell_type": "code",
   "execution_count": 41,
   "id": "6d17aca8-c94e-4762-84fe-b114010d097d",
   "metadata": {},
   "outputs": [
    {
     "name": "stdout",
     "output_type": "stream",
     "text": [
      "\n",
      "The following text reports the weights of some of the top 10 heaviest terrestrial animals in tonnes:\n",
      "The average Asian elephant weighs 4.5 tonnes.\n",
      "The average Indian rhinoceros weighs 1.9 tonnes.\n",
      "The average gaur weighs 0.95 tonnes.\n",
      "The average giraffe weighs 1.0 tonnes.\n",
      "The average hippopotamus weighs 1.8 tonnes.\n",
      "\n",
      "The following text reports the weights of some of the top 10 heaviest terrestrial animals in pounds:\n",
      "The average Asian elephant weighs 9920 pounds.\n",
      "The average Indian rhinoceros weighs 4188 pounds.\n",
      "The average gaur weighs 2094 pounds.\n",
      "The average giraffe weighs 2204 pounds.\n",
      "The average hippopotamus weighs 3968 pounds.\n",
      "\n",
      "The following text reports the weights of some of the top 10 heaviest terrestrial animals in tonnes and points:\n",
      "The average Asian elephant weighs 4.5 tonnes, or 9920 pounds.\n",
      "The average Indian rhinoceros weighs 1.9 tonnes, or 4188 pounds.\n",
      "The average gaur weighs 0.95 tonnes, or 2094 pounds.\n",
      "The average giraffe weighs 1.0 tonnes, or 2204 pounds.\n",
      "The average hippopotamus weighs 1.8 tonnes, or 3968 pounds.\n"
     ]
    }
   ],
   "source": [
    "heavy_animal_dict = {\"gaur\" : 0.95,\n",
    "                    \"giraffe\" : 1.0,\n",
    "                    \"hippopotamus\" : 1.8,\n",
    "                    \"Asian elephant\" : 4.5,\n",
    "                    \"Indian rhinoceros\" : 1.9}\n",
    "sorted_heavy_animal_dict = dict(sorted(heavy_animal_dict.items()))\n",
    "\n",
    "for key, value in sorted_heavy_animal_dict.items():\n",
    "    sorted_heavy_animal_dict[key] = [value, int(value*2204.62)]\n",
    "\n",
    "print(\"\\n\" + \"The following text reports the weights of some of the top 10 heaviest terrestrial animals in tonnes:\")\n",
    "for key, value in sorted_heavy_animal_dict.items():\n",
    "    print(\"The average \" + key + \" weighs \" + str(value[0]) + \" tonnes.\")\n",
    "\n",
    "print(\"\\n\" + \"The following text reports the weights of some of the top 10 heaviest terrestrial animals in pounds:\")\n",
    "for key, value in sorted_heavy_animal_dict.items():\n",
    "    print(\"The average \" + key + \" weighs \" + str(value[1]) + \" pounds.\")\n",
    "\n",
    "print(\"\\n\" + \"The following text reports the weights of some of the top 10 heaviest terrestrial animals in tonnes and points:\")\n",
    "for key, value in sorted_heavy_animal_dict.items():\n",
    "    print(\"The average \" + key + \" weighs \" + str(value[0]) + \" tonnes, or \" + str(value[1]) + \" pounds.\")"
   ]
  },
  {
   "cell_type": "markdown",
   "id": "4d55d890-cf25-45ad-899b-8900773bee7f",
   "metadata": {},
   "source": [
    "### Exercise 9.7"
   ]
  },
  {
   "cell_type": "code",
   "execution_count": 62,
   "id": "990d531b-0936-4f21-b89c-fb5c8b097908",
   "metadata": {},
   "outputs": [
    {
     "name": "stdout",
     "output_type": "stream",
     "text": [
      "The following text reports some of the top 10 heaviest terrestrial animals:\n",
      "The Asian elephant is one of the top 10 heaviest terrestrial animals.\n",
      "The Indian rhinoceros is one of the top 10 heaviest terrestrial animals.\n",
      "The gaur is one of the top 10 heaviest terrestrial animals.\n",
      "The giraffe is one of the top 10 heaviest terrestrial animals.\n",
      "The hippopotamus is one of the top 10 heaviest terrestrial animals.\n",
      "\n",
      "The following text reports the average weights of some of the top 10 heaviest terrestrial animals:\n",
      "One of the heaviest terrestrial animals weighs on average 4.5 tons.\n",
      "One of the heaviest terrestrial animals weighs on average 1.9 tons.\n",
      "One of the heaviest terrestrial animals weighs on average 0.94 tons.\n",
      "One of the heaviest terrestrial animals weighs on average 1 tons.\n",
      "One of the heaviest terrestrial animals weighs on average 1.8 tons.\n",
      "\n",
      "The following text reports the average lengths of some of the top 10 heaviest terrestrial animals:\n",
      "One of the heaviest terrestrial animals on average is 6.8 meters long.\n",
      "One of the heaviest terrestrial animals on average is 4.2 meters long.\n",
      "One of the heaviest terrestrial animals on average is 3.8 meters long.\n",
      "One of the heaviest terrestrial animals on average is 5.5 meters long.\n",
      "One of the heaviest terrestrial animals on average is 5.05 meters long.\n",
      "\n",
      "The following text reports the identities, average weights, and average lengths of some of the top 10 heaviest terrestrial animals:\n",
      "The Asian elephant, on average, weighs 4.5 tons and is 6.8 meters long.\n",
      "The Indian rhinoceros, on average, weighs 1.9 tons and is 4.2 meters long.\n",
      "The gaur, on average, weighs 0.94 tons and is 3.8 meters long.\n",
      "The giraffe, on average, weighs 1 tons and is 5.5 meters long.\n",
      "The hippopotamus, on average, weighs 1.8 tons and is 5.05 meters long.\n"
     ]
    }
   ],
   "source": [
    "heavy_animal_dict = {\"gaur\" : {\"average mass (tonnes)\" : 0.94, \"average total length (m)\" : 3.8},\n",
    "                    \"giraffe\" : {\"average mass (tonnes)\" : 1, \"average total length (m)\" : 5.5},\n",
    "                    \"hippopotamus\" : {\"average mass (tonnes)\" : 1.8, \"average total length (m)\" : 5.05},\n",
    "                    \"Asian elephant\" : {\"average mass (tonnes)\" : 4.5, \"average total length (m)\" : 6.8},\n",
    "                    \"Indian rhinoceros\" : {\"average mass (tonnes)\" : 1.9, \"average total length (m)\" : 4.2}}\n",
    "\n",
    "sorted_heavy_animal_dict = dict(sorted(heavy_animal_dict.items()))\n",
    "\n",
    "print(\"The following text reports some of the top 10 heaviest terrestrial animals:\")\n",
    "for key, value in sorted_heavy_animal_dict.items():\n",
    "    print(\"The \" + key + \" is one of the top 10 heaviest terrestrial animals.\")\n",
    "\n",
    "print(\"\\n\" + \"The following text reports the average weights of some of the top 10 heaviest terrestrial animals:\")\n",
    "for key, value in sorted_heavy_animal_dict.items():\n",
    "    print(\"One of the heaviest terrestrial animals weighs on average \" + str(value[\"average mass (tonnes)\"]) + \" tonnes.\")\n",
    "\n",
    "print(\"\\n\" + \"The following text reports the average lengths of some of the top 10 heaviest terrestrial animals:\")\n",
    "for key, value in sorted_heavy_animal_dict.items():\n",
    "    print(\"One of the heaviest terrestrial animals on average is \" + str(value[\"average total length (m)\"]) + \" meters long.\")\n",
    "\n",
    "print(\"\\n\" + \"The following text reports the identities, average weights, and average lengths of some of the top 10 heaviest terrestrial animals:\")\n",
    "for key, value in sorted_heavy_animal_dict.items():\n",
    "    print(\"The \" + key + \", on average, weighs \" + str(value[\"average mass (tonnes)\"]) + \" tonnes and is \" + str(value[\"average total length (m)\"]) + \" meters long.\")"
   ]
  },
  {
   "cell_type": "markdown",
   "id": "5d7dd34a-0c1d-46a6-984a-1f97a613fe33",
   "metadata": {},
   "source": [
    "### Exercise 9.8"
   ]
  },
  {
   "cell_type": "code",
   "execution_count": 37,
   "id": "36376490-4af0-45e0-bcd2-576b8b0c039e",
   "metadata": {},
   "outputs": [
    {
     "name": "stdout",
     "output_type": "stream",
     "text": [
      "The expression of gene NFKB1 in sample M-12 is 0.8.\n",
      "The expression of gene NFKB1 in sample M-48 is 0.43.\n",
      "The expression of gene NFKB1 in sample M+ANDV-12 is 1.21.\n",
      "The expression of gene NFKB1 in sample M+ANDV-48 is 0.02.\n",
      "The expression of gene NFKB1 in sample M+SNV-12 is 0.15.\n",
      "The expression of gene NFKB1 in sample M+SNV-48 is -0.09.\n",
      "The expression of gene NOS2 in sample M-12 is -11.26.\n",
      "The expression of gene NOS2 in sample M-48 is -5.52.\n",
      "The expression of gene NOS2 in sample M+ANDV-12 is -4.87.\n",
      "The expression of gene NOS2 in sample M+ANDV-48 is -5.14.\n",
      "The expression of gene NOS2 in sample M+SNV-12 is -3.85.\n",
      "The expression of gene NOS2 in sample M+SNV-48 is -6.14.\n",
      "\n",
      "The following represents the application of the generated tinydict dictionary.\n",
      "The expression of gene NFKB1 in sample M-48 is 0.43.\n"
     ]
    }
   ],
   "source": [
    "import pandas as pd\n",
    "\n",
    "virus_data = pd.read_csv(\"http://lfsc507.github.io/data/virus_miniset0.txt\", sep = \"\\t\", index_col=0)\n",
    "\n",
    "gene_names = virus_data.index.to_list()\n",
    "\n",
    "target_genes = []\n",
    "for i in gene_names:\n",
    "    query = list(i)\n",
    "    if query[0] == \"N\":\n",
    "        target_genes.append(i)\n",
    "\n",
    "sample_names = virus_data.columns.to_list()\n",
    "target_samples = []\n",
    "for i in sample_names:\n",
    "    query = list(i)\n",
    "    for index, j in enumerate(query):\n",
    "        if index == len(query)-2:\n",
    "             if (query[index] == \"4\" and query[(index+1)] == \"8\"):\n",
    "                 target_samples.append(i)\n",
    "    for index, h in enumerate(query):\n",
    "        if index == len(query)-2:  \n",
    "            if (query[index] == \"1\" and query[(index+1)] == \"2\"):\n",
    "                target_samples.append(i)\n",
    "\n",
    "tinydict = {}\n",
    "for i in target_genes:\n",
    "    tinydict[i] = {}\n",
    "    for j in target_samples:\n",
    "        to_update = {j : float(str(virus_data.loc[str(i),str(j)]))}\n",
    "        tinydict[i].update(to_update)\n",
    "        print(\"The expression of gene \" + i + \" in sample \" + j + \" is \" + str(virus_data.loc[str(i),str(j)]) + \".\")\n",
    "\n",
    "print(\"\\n\" + \"The following represents the application of the generated tinydict dictionary.\")\n",
    "query_gene = \"NFKB1\"\n",
    "query_sample = \"M-48\"\n",
    "tinydict_result = tinydict[query_gene][query_sample]\n",
    "print(\"The expression of gene \" + query_gene + \" in sample \" + query_sample + \" is \" + str(tinydict_result) + \".\")"
   ]
  }
 ],
 "metadata": {
  "kernelspec": {
   "display_name": "Python 3 (ipykernel)",
   "language": "python",
   "name": "python3"
  },
  "language_info": {
   "codemirror_mode": {
    "name": "ipython",
    "version": 3
   },
   "file_extension": ".py",
   "mimetype": "text/x-python",
   "name": "python",
   "nbconvert_exporter": "python",
   "pygments_lexer": "ipython3",
   "version": "3.10.10"
  }
 },
 "nbformat": 4,
 "nbformat_minor": 5
}
