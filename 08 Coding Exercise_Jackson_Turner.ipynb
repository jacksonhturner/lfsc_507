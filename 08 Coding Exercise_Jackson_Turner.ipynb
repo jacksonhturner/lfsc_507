{
 "cells": [
  {
   "cell_type": "markdown",
   "id": "f01b8f6f-91eb-45a0-9570-db6eb943773b",
   "metadata": {},
   "source": [
    "### Exercise 8.1"
   ]
  },
  {
   "cell_type": "code",
   "execution_count": 50,
   "id": "0f2b5c92-c591-48fd-99f5-8c8f0f651ec9",
   "metadata": {},
   "outputs": [
    {
     "name": "stdout",
     "output_type": "stream",
     "text": [
      "The amino acid query is 'AXX(X)A'.\n",
      "The amino acid sequence match ALACA starts at position 164 and ends at position 168.\n",
      "The amino acid sequence match AKTSA starts at position 295 and ends at position 299.\n",
      "The amino acid sequence match ACAA starts at position 166 and ends at position 169.\n",
      "The amino acid sequence match AGVA starts at position 269 and ends at position 272.\n",
      "The amino acid sequence match AFFA starts at position 292 and ends at position 295.\n",
      "\n",
      "The amino acid query is 'ZXX(X)Z', where Z is either A or L.\n",
      "The amino acid sequence match AYMFL starts at position 42 and ends at position 46.\n",
      "The amino acid sequence match LLIML starts at position 46 and ends at position 50.\n",
      "The amino acid sequence match LRTPL starts at position 68 and ends at position 72.\n",
      "The amino acid sequence match LNYIL starts at position 72 and ends at position 76.\n",
      "The amino acid sequence match LLNLA starts at position 76 and ends at position 80.\n",
      "The amino acid sequence match AVADL starts at position 80 and ends at position 84.\n",
      "The amino acid sequence match LYTSL starts at position 95 and ends at position 99.\n",
      "The amino acid sequence match ALWSL starts at position 124 and ends at position 128.\n",
      "The amino acid sequence match LVVLA starts at position 128 and ends at position 132.\n",
      "The amino acid sequence match ALACA starts at position 164 and ends at position 168.\n",
      "The amino acid sequence match LACAA starts at position 165 and ends at position 169.\n",
      "The amino acid sequence match AAPPL starts at position 168 and ends at position 172.\n",
      "The amino acid sequence match LICWL starts at position 262 and ends at position 266.\n",
      "The amino acid sequence match AKTSA starts at position 295 and ends at position 299.\n",
      "The amino acid sequence match LIML starts at position 47 and ends at position 50.\n",
      "The amino acid sequence match LLNL starts at position 76 and ends at position 79.\n",
      "The amino acid sequence match LNLA starts at position 77 and ends at position 80.\n",
      "The amino acid sequence match LAVA starts at position 79 and ends at position 82.\n",
      "The amino acid sequence match LWSL starts at position 125 and ends at position 128.\n",
      "The amino acid sequence match LVVL starts at position 128 and ends at position 131.\n",
      "The amino acid sequence match LACA starts at position 165 and ends at position 168.\n",
      "The amino acid sequence match ACAA starts at position 166 and ends at position 169.\n",
      "The amino acid sequence match APPL starts at position 169 and ends at position 172.\n",
      "The amino acid sequence match LPYA starts at position 266 and ends at position 269.\n",
      "The amino acid sequence match AGVA starts at position 269 and ends at position 272.\n",
      "The amino acid sequence match AFFA starts at position 292 and ends at position 295.\n"
     ]
    }
   ],
   "source": [
    "import re\n",
    "\n",
    "aa_seq = \"MNGTEGPNFYVPFSNKTGVVRSPFEAPQYYLAEPWQFSMLAAYMFLLIMLGFPINFLTLYVTVQHKKLRTPLNYILLNLA\" +\\\n",
    "    \"VADLFMVFGGFTTTLYTSLHGYFVFGPTGCNLEGFFATLGGEIALWSLVVLAIERYVVVCKPMSNFRFGENHAIMGVAFT\" +\\\n",
    "    \"WVMALACAAPPLVGWSRYIPEGMQCSCGIDYYTPHEETNNESFVIYMFVVHFIIPLIVIFFCYGQLVFTVKEAAAQQQES\" +\\\n",
    "    \"ATTQKAEKEVTRMVIIMVIAFLICWLPYAGVAFYIFTHQGSDFGPIFMTIPAFFAKTSAVYNPVIYIMMNKQFRNCMVTT\" +\\\n",
    "    \"LCCGKNPLGDDEASTTVSKTETSQVAPA\"\n",
    "\n",
    "matches = re.finditer('(?=(A...A))',aa_seq,)\n",
    "matchesf = [str(match.group(1)) for match in matches]\n",
    "matches2 = re.finditer('(?=(A..A))',aa_seq,)\n",
    "matches2f = [str(match.group(1)) for match in matches2]\n",
    "matches3 = matchesf + matches2f\n",
    "\n",
    "print(\"The amino acid query is 'AXX(X)A'.\")\n",
    "for i in matches3:\n",
    "    match_text = str(re.search(i,aa_seq))\n",
    "    intermpos = str(re.sub('^.*span=\\(','',match_text))\n",
    "    intermpos = re.sub('\\).*$','',intermpos)\n",
    "    startpos = re.sub('\\,.*','',intermpos)\n",
    "    endpos = re.sub('^.*\\, ','',intermpos)\n",
    "    print(\"The amino acid sequence match \" + i + \" starts at position \" + str((int(startpos) + 1)) + \" and ends at position \" + str((int(endpos))) + \".\")\n",
    "\n",
    "newmatches = re.finditer('(?=([AL]...[AL]))',aa_seq,)\n",
    "newmatchesf = [str(match.group(1)) for match in newmatches]\n",
    "newmatches2 = re.finditer('(?=([AL]..[AL]))',aa_seq,)\n",
    "newmatches2f = [str(match.group(1)) for match in newmatches2]\n",
    "newmatches3 = newmatchesf + newmatches2f\n",
    "\n",
    "print(\"\\n\" + \"The amino acid query is 'ZXX(X)Z', where Z is either A or L.\")\n",
    "for i in newmatches3:\n",
    "    match_text = str(re.search(i,aa_seq))\n",
    "    intermpos = str(re.sub('^.*span=\\(','',match_text))\n",
    "    intermpos = re.sub('\\).*$','',intermpos)\n",
    "    startpos = re.sub('\\,.*','',intermpos)\n",
    "    endpos = re.sub('^.*\\, ','',intermpos)\n",
    "    print(\"The amino acid sequence match \" + i + \" starts at position \" + str((int(startpos) + 1)) + \" and ends at position \" + str((int(endpos))) + \".\")\n"
   ]
  },
  {
   "cell_type": "markdown",
   "id": "3a1cedcc-f52c-406b-ab90-3fb2cff8de7a",
   "metadata": {},
   "source": [
    "### Exercise 8.2"
   ]
  },
  {
   "cell_type": "code",
   "execution_count": 52,
   "id": "d0cbcc01-619f-4d59-9c3e-d31351af8b0d",
   "metadata": {},
   "outputs": [
    {
     "name": "stdout",
     "output_type": "stream",
     "text": [
      "There are 501 A's, 507 C's, 508 G's, and 496 T's in this sequence.\n"
     ]
    },
    {
     "data": {
      "image/png": "[encoded data removed]",
      "text/plain": [
       "<Figure size 640x480 with 1 Axes>"
      ]
     },
     "metadata": {},
     "output_type": "display_data"
    }
   ],
   "source": [
    "import os\n",
    "import pandas as pd\n",
    "import matplotlib.pyplot as plt \n",
    "\n",
    "with open(\"/srv/dna.txt\", \"r\") as f:\n",
    "    dnatxt = list(f.read())\n",
    "\n",
    "acount = 0\n",
    "ccount = 0\n",
    "gcount = 0\n",
    "\n",
    "for i in dnatxt:\n",
    "    if i == \"A\":\n",
    "        acount = acount + 1\n",
    "    if i == \"C\":\n",
    "        ccount = ccount + 1\n",
    "    if i == \"G\":\n",
    "        gcount = gcount + 1\n",
    "\n",
    "tcount = len(dnatxt) - acount - ccount - gcount\n",
    "\n",
    "print (\"There are \" + str(acount) + \" A's, \" + str(ccount) + \" C's, \" + str(gcount) + \" G's, and \" + str(tcount) + \" T's in this sequence.\")\n",
    "\n",
    "histdata = [[\"A\", acount], [\"C\", ccount], [\"G\", gcount], [\"T\", tcount]]\n",
    "histdf = pd.DataFrame(histdata, columns = [\"Base\", \"Count\"])\n",
    "\n",
    "plt.bar(histdf[\"Base\"],histdf[\"Count\"])\n",
    "plt.xlabel(\"Nucleotide Base\")\n",
    "plt.ylabel(\"Frequency\")\n",
    "plt.title(\"Frequency of Nucleotide Bases in Sequence\")\n",
    "plt.show()"
   ]
  },
  {
   "cell_type": "markdown",
   "id": "a0e7f02d-9fa0-4a4e-871f-6e6b12d5be92",
   "metadata": {},
   "source": [
    "### Exercise 8.3"
   ]
  },
  {
   "cell_type": "code",
   "execution_count": 23,
   "id": "e12003a9-4ce7-4ae4-80f9-c675d1136b25",
   "metadata": {},
   "outputs": [
    {
     "name": "stdout",
     "output_type": "stream",
     "text": [
      "The standard deviation of all gene expressions in sample M-12 is 4.91.\n",
      "The standard deviation of all gene expressions in sample M-24 is 4.7.\n",
      "The standard deviation of all gene expressions in sample M-36 is 2.76.\n",
      "The standard deviation of all gene expressions in sample M-48 is 4.89.\n",
      "The standard deviation of all gene expressions in sample M+ANDV-12 is 3.97.\n",
      "The standard deviation of all gene expressions in sample M+ANDV-24 is 4.05.\n",
      "The standard deviation of all gene expressions in sample M+ANDV-36 is 5.28.\n",
      "The standard deviation of all gene expressions in sample M+ANDV-48 is 4.26.\n",
      "The standard deviation of all gene expressions in sample M+SNV-12 is 3.44.\n",
      "The standard deviation of all gene expressions in sample M+SNV-24 is 3.87.\n",
      "The standard deviation of all gene expressions in sample M+SNV-36 is 3.26.\n",
      "The standard deviation of all gene expressions in sample M+SNV-48 is 3.27.\n",
      " \n",
      "The standard deviation of the expression in gene ARG1 across all samples is 3.61.\n",
      "The standard deviation of the expression in gene CASP3 across all samples is 0.25.\n",
      "The standard deviation of the expression in gene CASP7 across all samples is 0.94.\n",
      "The standard deviation of the expression in gene CCL22 across all samples is 3.53.\n",
      "The standard deviation of the expression in gene CCL5 across all samples is 0.95.\n",
      "The standard deviation of the expression in gene CCR7 across all samples is 4.11.\n",
      "The standard deviation of the expression in gene CD14 across all samples is 1.03.\n",
      "The standard deviation of the expression in gene CD200R1 across all samples is 3.61.\n",
      "The standard deviation of the expression in gene CD274 across all samples is 2.5.\n",
      "The standard deviation of the expression in gene CD80 across all samples is 1.63.\n",
      "The standard deviation of the expression in gene CD86 across all samples is 0.45.\n",
      "The standard deviation of the expression in gene CXCL10 across all samples is 1.51.\n",
      "The standard deviation of the expression in gene CXCL11 across all samples is 2.42.\n",
      "The standard deviation of the expression in gene IDO1 across all samples is 1.85.\n",
      "The standard deviation of the expression in gene IFNA1 across all samples is 3.01.\n",
      "The standard deviation of the expression in gene IFNB1 across all samples is 1.68.\n",
      "The standard deviation of the expression in gene IFNG across all samples is 0.57.\n",
      "The standard deviation of the expression in gene IFR3 across all samples is 0.2.\n",
      "The standard deviation of the expression in gene IL10 across all samples is 1.09.\n",
      "The standard deviation of the expression in gene IL12A across all samples is 3.83.\n",
      "The standard deviation of the expression in gene IL15 across all samples is 2.0.\n",
      "The standard deviation of the expression in gene IL1A across all samples is 2.83.\n",
      "The standard deviation of the expression in gene IL1B across all samples is 1.22.\n",
      "The standard deviation of the expression in gene IL1RN across all samples is 2.44.\n",
      "The standard deviation of the expression in gene IL6 across all samples is 3.09.\n",
      "The standard deviation of the expression in gene IL8 across all samples is 0.54.\n",
      "The standard deviation of the expression in gene IRF7 across all samples is 0.71.\n",
      "The standard deviation of the expression in gene ITGAM across all samples is 0.93.\n",
      "The standard deviation of the expression in gene NFKB1 across all samples is 0.48.\n",
      "The standard deviation of the expression in gene NOS2 across all samples is 2.11.\n",
      "The standard deviation of the expression in gene PPARG across all samples is 0.82.\n",
      "The standard deviation of the expression in gene TGFB1 across all samples is 0.66.\n",
      "The standard deviation of the expression in gene TLR3 across all samples is 4.65.\n",
      "The standard deviation of the expression in gene TLR7 across all samples is 1.51.\n",
      "The standard deviation of the expression in gene TNF across all samples is 0.39.\n",
      "The standard deviation of the expression in gene VEGFA across all samples is 0.92.\n"
     ]
    }
   ],
   "source": [
    "import urllib\n",
    "import pandas as pd\n",
    "\n",
    "from urllib.request import urlopen\n",
    "genomic_data = pd.read_csv(urlopen(\"http://lfsc507.github.io/data/virus_miniset0.txt\"), sep = \"\\t\")\n",
    "\n",
    "genomic_data = genomic_data.set_index(\"Sample\")\n",
    "mycols = list(genomic_data.columns)\n",
    "col_stds = genomic_data.std()\n",
    "col_stds = col_stds.tolist()\n",
    "\n",
    "ncol = len(mycols)\n",
    "for i in range(0,ncol):\n",
    "    col_val = round(col_stds[i],2)\n",
    "    print(\"The standard deviation of all gene expressions in sample \" + mycols[i] + \" is \" + str(col_val) + \".\")\n",
    "print(\" \")\n",
    "\n",
    "myindex = list(genomic_data.index)\n",
    "nrow = len(myindex)\n",
    "genomic_data['Row StD'] = genomic_data.std(axis=1)\n",
    "row_stds = genomic_data['Row StD'].values.tolist()\n",
    "\n",
    "for i in range(0,nrow):\n",
    "    row_val = round(row_stds[i],2)\n",
    "    print(\"The standard deviation of the expression in gene \" + myindex[i] + \" across all samples is \" + str(row_val) + \".\")\n",
    "\n",
    "print(geno)"
   ]
  }
 ],
 "metadata": {
  "kernelspec": {
   "display_name": "Python 3 (ipykernel)",
   "language": "python",
   "name": "python3"
  },
  "language_info": {
   "codemirror_mode": {
    "name": "ipython",
    "version": 3
   },
   "file_extension": ".py",
   "mimetype": "text/x-python",
   "name": "python",
   "nbconvert_exporter": "python",
   "pygments_lexer": "ipython3",
   "version": "3.10.10"
  }
 },
 "nbformat": 4,
 "nbformat_minor": 5
}
