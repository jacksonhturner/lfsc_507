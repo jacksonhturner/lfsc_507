{
 "cells": [
  {
   "cell_type": "markdown",
   "id": "67f2c960-1e52-467a-9651-d16aba306793",
   "metadata": {},
   "source": [
    "### This script is designed to recover orthologous sequences from an amino acid file using tabular diamond results."
   ]
  },
  {
   "cell_type": "code",
   "execution_count": 8,
   "id": "3e23aec1-ffdf-4df8-93d0-1a7a76cb77a8",
   "metadata": {},
   "outputs": [
    {
     "name": "stdout",
     "output_type": "stream",
     "text": [
      "0.33% of genes sampled in this dataset were identified as orthologs.\n",
      "13 orthologs in this dataset were written to filtered_seqs.faa.\n"
     ]
    }
   ],
   "source": [
    "import pandas as pd\n",
    "\n",
    "diamond_headers = [\"query accession\"]\n",
    "diamond_table = pd.read_csv(\"table_subset.tsv\", sep=\"\\t\",usecols=[0], names = diamond_headers)\n",
    "\n",
    "genes = diamond_table[\"query accession\"].tolist()\n",
    "\n",
    "#Use dictionaries\n",
    "#List comprehension -- make a list in a single line (very easy)\n",
    "#Dictionary comprehensions work sort of similarly, use the list of the set of genes\n",
    "#You can save time if you add everything to dictionary with a value of 1\n",
    "#gene_dict = {i:1 for i in list(set(genes))}\n",
    "\n",
    "orthologs = []\n",
    "for i in genes:\n",
    "    if genes.count(i) == 1:\n",
    "        orthologs.append(i)\n",
    "\n",
    "unique_genes = list(set(genes))\n",
    "\n",
    "ortholog_percent = round((len(orthologs)/len(unique_genes)),2)\n",
    "print(str(ortholog_percent) + \"% of genes sampled in this dataset were identified as orthologs.\")\n",
    "\n",
    "seqs = \"Henckelia_ceratoscyphus.faa\"\n",
    "file_name = \"filtered_seqs.faa\"\n",
    "\n",
    "for i in orthologs:\n",
    "    ortholog_query = str(\">\" + i)\n",
    "    seqs_open = open(seqs, \"r\")\n",
    "    signal = \"off\"\n",
    "    for line in seqs_open:\n",
    "        if str(line.rstrip()) == ortholog_query:\n",
    "            with open(file_name, 'a') as f:\n",
    "                f.write(line.strip())\n",
    "                f.write(\"\\n\")\n",
    "            signal = \"on\"\n",
    "            continue\n",
    "        if (signal == \"on\" and \">\" not in line):\n",
    "            with open(file_name, 'a') as f:\n",
    "                f.write(line.strip())\n",
    "                f.write(\"\\n\")\n",
    "        if (signal == \"on\" and \">\" in line):\n",
    "            signal = \"off\"\n",
    "\n",
    "print(str(len(orthologs)) + \" orthologs in this dataset were written to \" + file_name + \".\")"
   ]
  }
 ],
 "metadata": {
  "kernelspec": {
   "display_name": "Python 3 (ipykernel)",
   "language": "python",
   "name": "python3"
  },
  "language_info": {
   "codemirror_mode": {
    "name": "ipython",
    "version": 3
   },
   "file_extension": ".py",
   "mimetype": "text/x-python",
   "name": "python",
   "nbconvert_exporter": "python",
   "pygments_lexer": "ipython3",
   "version": "3.10.10"
  }
 },
 "nbformat": 4,
 "nbformat_minor": 5
}
